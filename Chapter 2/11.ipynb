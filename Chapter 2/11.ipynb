{
 "cells": [
  {
   "cell_type": "markdown",
   "metadata": {},
   "source": [
    "Write a program to perform a unit conversion of your own choosing. Make \n",
    "sure that the program prints an introduction that explains what it does. "
   ]
  },
  {
   "cell_type": "code",
   "execution_count": 3,
   "metadata": {},
   "outputs": [
    {
     "name": "stdout",
     "output_type": "stream",
     "text": [
      "This program converts the Dollar to INR\n",
      "The Money value is 292.32 Indian Rupees\n"
     ]
    }
   ],
   "source": [
    "def main():\n",
    "    print(\"This program converts the Dollar to INR\")\n",
    "    dollar=eval(input(\"Enter the value of money in dollars:\"))\n",
    "    INR = dollar *83.52\n",
    "    print(\"The Money value is\",INR,\"Indian Rupees\")\n",
    "\n",
    "main()"
   ]
  }
 ],
 "metadata": {
  "kernelspec": {
   "display_name": "Python 3",
   "language": "python",
   "name": "python3"
  },
  "language_info": {
   "codemirror_mode": {
    "name": "ipython",
    "version": 3
   },
   "file_extension": ".py",
   "mimetype": "text/x-python",
   "name": "python",
   "nbconvert_exporter": "python",
   "pygments_lexer": "ipython3",
   "version": "3.11.3"
  }
 },
 "nbformat": 4,
 "nbformat_minor": 2
}
