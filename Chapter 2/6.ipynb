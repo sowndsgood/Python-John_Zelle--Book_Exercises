{
 "cells": [
  {
   "cell_type": "markdown",
   "metadata": {},
   "source": [
    "Modify the futval. py program (Section 2. 7) so that the number of years \n",
    "for the investment is also a user input. Make sure to change the final \n",
    "message to reflect the correct number of years. \n"
   ]
  },
  {
   "cell_type": "code",
   "execution_count": 3,
   "metadata": {},
   "outputs": [
    {
     "name": "stdout",
     "output_type": "stream",
     "text": [
      "This program calculates the future value of investment.\n",
      "The value in 5 years is: 401.4676732800001\n"
     ]
    }
   ],
   "source": [
    "# futval.py \n",
    "# A program to compute the value of an investment\n",
    " \n",
    "def main(): \n",
    "    print(\"This program calculates the future value of investment.\") \n",
    "    \n",
    "    principal = eval(input(\"Enter the initial principal: \")) \n",
    "    apr = eval(input(\"Enter the annual interest rate: \")) \n",
    "    years = eval(input(\"Enter number of years:\")) \n",
    "\n",
    "    for i in range(years): \n",
    "        principal = principal * (1 + apr) \n",
    "    \n",
    "    print(\"The value in\",years,\"years is:\", principal) \n",
    "\n",
    "main()"
   ]
  }
 ],
 "metadata": {
  "kernelspec": {
   "display_name": "Python 3",
   "language": "python",
   "name": "python3"
  },
  "language_info": {
   "codemirror_mode": {
    "name": "ipython",
    "version": 3
   },
   "file_extension": ".py",
   "mimetype": "text/x-python",
   "name": "python",
   "nbconvert_exporter": "python",
   "pygments_lexer": "ipython3",
   "version": "3.11.3"
  }
 },
 "nbformat": 4,
 "nbformat_minor": 2
}
