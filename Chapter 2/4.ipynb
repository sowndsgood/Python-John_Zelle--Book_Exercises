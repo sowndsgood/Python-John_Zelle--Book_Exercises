{
 "cells": [
  {
   "cell_type": "markdown",
   "metadata": {},
   "source": [
    "Modify the convert. py program (Section 2.2) with a loop so that it executes 5 times before quitting. Each time through the loop, the program \n",
    "should get another temperature from the user and print the converted \n",
    "value."
   ]
  },
  {
   "cell_type": "code",
   "execution_count": 1,
   "metadata": {},
   "outputs": [
    {
     "name": "stdout",
     "output_type": "stream",
     "text": [
      "The temperature is 73.4 degrees Fahrenheit.\n",
      "The temperature is 73.4 degrees Fahrenheit.\n",
      "The temperature is 113.0 degrees Fahrenheit.\n",
      "The temperature is 93.2 degrees Fahrenheit.\n",
      "The temperature is 149.0 degrees Fahrenheit.\n"
     ]
    }
   ],
   "source": [
    "# convert.py \n",
    "# A program to convert Celsius temps to Fahrenheit \n",
    "# by: Susan Computewell \n",
    "def main():\n",
    "    for i in range(5):\n",
    "        celsius = eval(input(\"What is the Celsius temperature? \")) \n",
    "        fahrenheit = 9/5 * celsius + 32 \n",
    "        print(\"The temperature is\", fahrenheit, \"degrees Fahrenheit.\") \n",
    "\n",
    "main()"
   ]
  }
 ],
 "metadata": {
  "kernelspec": {
   "display_name": "Python 3",
   "language": "python",
   "name": "python3"
  },
  "language_info": {
   "codemirror_mode": {
    "name": "ipython",
    "version": 3
   },
   "file_extension": ".py",
   "mimetype": "text/x-python",
   "name": "python",
   "nbconvert_exporter": "python",
   "pygments_lexer": "ipython3",
   "version": "3.11.3"
  }
 },
 "nbformat": 4,
 "nbformat_minor": 2
}
