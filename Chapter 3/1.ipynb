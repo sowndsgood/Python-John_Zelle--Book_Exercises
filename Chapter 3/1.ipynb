{
 "cells": [
  {
   "cell_type": "markdown",
   "metadata": {},
   "source": [
    "Write a program to calculate the volume and surface area of a sphere from \n",
    "its radius, given as input. "
   ]
  },
  {
   "cell_type": "code",
   "execution_count": 25,
   "metadata": {},
   "outputs": [
    {
     "name": "stdout",
     "output_type": "stream",
     "text": [
      "The Volume is 113.09733552923255 cubic units\n",
      "The Surface area is 113.09733552923255 square units\n"
     ]
    }
   ],
   "source": [
    "# Importing Math Library\n",
    "import math\n",
    "\n",
    "def sphere():\n",
    "    radius=float(input(\"Enter the radius:\"))\n",
    "    V=(4*math.pi*(radius**3))/3\n",
    "    S=4*math.pi*(radius**2)\n",
    "    print(\"The Volume is\",V,\"cubic units\")\n",
    "    print(\"The Surface area is\",S,\"square units\")\n",
    "\n",
    "sphere()"
   ]
  }
 ],
 "metadata": {
  "kernelspec": {
   "display_name": "Python 3",
   "language": "python",
   "name": "python3"
  },
  "language_info": {
   "codemirror_mode": {
    "name": "ipython",
    "version": 3
   },
   "file_extension": ".py",
   "mimetype": "text/x-python",
   "name": "python",
   "nbconvert_exporter": "python",
   "pygments_lexer": "ipython3",
   "version": "3.11.3"
  }
 },
 "nbformat": 4,
 "nbformat_minor": 2
}
