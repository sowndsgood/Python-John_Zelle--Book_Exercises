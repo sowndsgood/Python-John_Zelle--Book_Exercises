{
 "cells": [
  {
   "cell_type": "markdown",
   "metadata": {},
   "source": [
    " Modify the chaos program so that the number of values to print is deter\n",
    " mined by the user. You will have to add a line near the top of the program \n",
    "to get another value from the user: \n",
    "n = \n",
    "eval(input(\"How many numbers should I print? \")) \n",
    "Then you will need to change the loop to use n instead of a specific number."
   ]
  },
  {
   "cell_type": "code",
   "execution_count": 1,
   "metadata": {},
   "outputs": [
    {
     "name": "stdout",
     "output_type": "stream",
     "text": [
      "This program illustrates a chaotic function\n",
      "The number is 0.13\n",
      "0.2262\n",
      "0.35006712000000006\n",
      "0.45504026298981126\n",
      "0.4959572440959493\n",
      "0.49996731224940055\n",
      "0.49999999786302185\n",
      "0.5\n",
      "0.5\n",
      "0.5\n",
      "0.5\n"
     ]
    }
   ],
   "source": [
    "def main(): \n",
    "    print(\"This program illustrates a chaotic function\")\n",
    "    n = eval(input(\"How many numbers should I print? \")) \n",
    "    x = eval(input(\"Enter a number between 0 and 1: \")) \n",
    "    print(f\"The number is {x}\")\n",
    "    for i in range(n): \n",
    "        x = 2.0 * x * (1 -x) \n",
    "        print(x) \n",
    "\n",
    "main()"
   ]
  }
 ],
 "metadata": {
  "kernelspec": {
   "display_name": "Python 3",
   "language": "python",
   "name": "python3"
  },
  "language_info": {
   "codemirror_mode": {
    "name": "ipython",
    "version": 3
   },
   "file_extension": ".py",
   "mimetype": "text/x-python",
   "name": "python",
   "nbconvert_exporter": "python",
   "pygments_lexer": "ipython3",
   "version": "3.11.3"
  }
 },
 "nbformat": 4,
 "nbformat_minor": 2
}
