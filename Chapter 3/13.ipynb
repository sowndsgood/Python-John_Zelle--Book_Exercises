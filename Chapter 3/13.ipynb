{
 "cells": [
  {
   "cell_type": "markdown",
   "metadata": {},
   "source": [
    "Write a program to sum a series of numbers entered by the user. The \n",
    "program should first prompt the user for how many numbers are to be \n",
    "summed. The program should then prompt the user for each of the numbers in turn and print out a total sum after all the numbers have been \n",
    "entered. Hint: Use an input statement in the body of the loop."
   ]
  },
  {
   "cell_type": "code",
   "execution_count": 1,
   "metadata": {},
   "outputs": [
    {
     "name": "stdout",
     "output_type": "stream",
     "text": [
      "The sum of the numbers is: 10.0\n"
     ]
    }
   ],
   "source": [
    "def sum():\n",
    "\n",
    "    n=int(input(\"Enter the number count:\"))\n",
    "\n",
    "    sum=0\n",
    "    for i in range(n):\n",
    "        temp=float(input(f\"Enter the {i+1} number\"))\n",
    "        sum+=temp\n",
    "\n",
    "    print(\"The sum of the numbers is:\",sum)\n",
    "\n",
    "sum()"
   ]
  }
 ],
 "metadata": {
  "kernelspec": {
   "display_name": "Python 3",
   "language": "python",
   "name": "python3"
  },
  "language_info": {
   "codemirror_mode": {
    "name": "ipython",
    "version": 3
   },
   "file_extension": ".py",
   "mimetype": "text/x-python",
   "name": "python",
   "nbconvert_exporter": "python",
   "pygments_lexer": "ipython3",
   "version": "3.11.3"
  }
 },
 "nbformat": 4,
 "nbformat_minor": 2
}
