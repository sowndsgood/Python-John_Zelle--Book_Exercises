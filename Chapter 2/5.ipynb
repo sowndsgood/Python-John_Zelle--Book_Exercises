{
 "cells": [
  {
   "cell_type": "markdown",
   "metadata": {},
   "source": [
    "Modify the convert. py program (Section 2.2) so that it computes and \n",
    "prints a table of Celsius temperatures and the Fahrenheit equivalents every \n",
    "10 degrees from 0°C to 100°C. "
   ]
  },
  {
   "cell_type": "code",
   "execution_count": 7,
   "metadata": {},
   "outputs": [
    {
     "name": "stdout",
     "output_type": "stream",
     "text": [
      "Celsius Fahrenheit\n",
      "0 C     32.0 F\n",
      "10 C     50.0 F\n",
      "20 C     68.0 F\n",
      "30 C     86.0 F\n",
      "40 C     104.0 F\n",
      "50 C     122.0 F\n",
      "60 C     140.0 F\n",
      "70 C     158.0 F\n",
      "80 C     176.0 F\n",
      "90 C     194.0 F\n",
      "100 C     212.0 F\n"
     ]
    }
   ],
   "source": [
    "# convert.py \n",
    "# A program to convert Celsius temps to Fahrenheit \n",
    "# by: Susan Computewell \n",
    "def main():\n",
    "    print(\"Celsius\",\"Fahrenheit\")\n",
    "    celsius = 0\n",
    "    for i in range(11):\n",
    "        fahrenheit = 9/5 * celsius + 32 \n",
    "        print(celsius, \"C\",end=\"     \")\n",
    "        print(fahrenheit, \"F\") \n",
    "        celsius += 10\n",
    "\n",
    "main()"
   ]
  }
 ],
 "metadata": {
  "kernelspec": {
   "display_name": "Python 3",
   "language": "python",
   "name": "python3"
  },
  "language_info": {
   "codemirror_mode": {
    "name": "ipython",
    "version": 3
   },
   "file_extension": ".py",
   "mimetype": "text/x-python",
   "name": "python",
   "nbconvert_exporter": "python",
   "pygments_lexer": "ipython3",
   "version": "3.11.3"
  }
 },
 "nbformat": 4,
 "nbformat_minor": 2
}
