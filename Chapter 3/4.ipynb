{
 "cells": [
  {
   "cell_type": "markdown",
   "metadata": {},
   "source": [
    "Write a program that determines the distance to a lightning strike based on \n",
    "the time elapsed between the flash and the sound of thunder. The speed \n",
    "of sound is approximately 1100 ft/ sec and 1 mile is 5280 ft."
   ]
  },
  {
   "cell_type": "code",
   "execution_count": 4,
   "metadata": {},
   "outputs": [
    {
     "name": "stdout",
     "output_type": "stream",
     "text": [
      "The distance of lightning strike is 0.8333333333333334 miles\n"
     ]
    }
   ],
   "source": [
    "def lightning(time):    \n",
    "    distance=1100*time\n",
    "    distance_in_miles=distance/5280\n",
    "    print(\"The distance of lightning strike is\",distance_in_miles,\"miles\")\n",
    "\n",
    "time=float(input(\"Enter the time in secs\"))\n",
    "lightning(time)"
   ]
  }
 ],
 "metadata": {
  "kernelspec": {
   "display_name": "Python 3",
   "language": "python",
   "name": "python3"
  },
  "language_info": {
   "codemirror_mode": {
    "name": "ipython",
    "version": 3
   },
   "file_extension": ".py",
   "mimetype": "text/x-python",
   "name": "python",
   "nbconvert_exporter": "python",
   "pygments_lexer": "ipython3",
   "version": "3.11.3"
  }
 },
 "nbformat": 4,
 "nbformat_minor": 2
}
