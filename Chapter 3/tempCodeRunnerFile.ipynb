print("The Volume is",V,"cubic units")
    print("The Surface area is",S,"square units")