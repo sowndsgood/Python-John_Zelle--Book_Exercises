{
 "cells": [
  {
   "cell_type": "markdown",
   "metadata": {},
   "source": [
    "On many systems with Python, it is possible to run a program by simply \n",
    "clicking (or double-clicking) on the icon of the program file. If you are \n",
    "able to run the convert . py program this way, you may discover another \n",
    "usability issue. The program starts running in a new window, but as soon \n",
    "as the program has finished, the window disappears so that you cannot \n",
    "read the results. Add an input statement at the end of the program so \n",
    "that it pauses to give the user a chance to read the results. Something like \n",
    "this should work: \n",
    "input(\"Press the <Enter> key to quit.\")"
   ]
  },
  {
   "cell_type": "code",
   "execution_count": 2,
   "metadata": {},
   "outputs": [
    {
     "name": "stdout",
     "output_type": "stream",
     "text": [
      "11\n"
     ]
    }
   ],
   "source": [
    "def main():\n",
    "    a=5\n",
    "    b=6\n",
    "    c =a+b\n",
    "    print(c)\n",
    "    input(\"Press the <Enter> key to quit.\")\n",
    "\n",
    "main()"
   ]
  }
 ],
 "metadata": {
  "kernelspec": {
   "display_name": "Python 3",
   "language": "python",
   "name": "python3"
  },
  "language_info": {
   "codemirror_mode": {
    "name": "ipython",
    "version": 3
   },
   "file_extension": ".py",
   "mimetype": "text/x-python",
   "name": "python",
   "nbconvert_exporter": "python",
   "pygments_lexer": "ipython3",
   "version": "3.11.3"
  }
 },
 "nbformat": 4,
 "nbformat_minor": 2
}
