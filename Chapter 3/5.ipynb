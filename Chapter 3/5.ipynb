{
 "cells": [
  {
   "cell_type": "markdown",
   "metadata": {},
   "source": [
    "The Konditorei coffee shop sells coffee at $10.50 a pound plus the cost \n",
    "of shipping. Each order ships for $0.86 per pound + $1.50 fixed cost for \n",
    "overhead. Write a program that calculates the cost of an order. "
   ]
  },
  {
   "cell_type": "code",
   "execution_count": 3,
   "metadata": {},
   "outputs": [
    {
     "name": "stdout",
     "output_type": "stream",
     "text": [
      "The cost of the order: 46.94 $\n"
     ]
    }
   ],
   "source": [
    "def cost(order):\n",
    "    coffee_cost=(10.50*order) + (0.86*order) + 1.50\n",
    "    print(\"The cost of the order:\",coffee_cost,\"$\")\n",
    "\n",
    "order= int(input(\"Enter the order in pounds\"))\n",
    "cost(order)"
   ]
  }
 ],
 "metadata": {
  "kernelspec": {
   "display_name": "Python 3",
   "language": "python",
   "name": "python3"
  },
  "language_info": {
   "codemirror_mode": {
    "name": "ipython",
    "version": 3
   },
   "file_extension": ".py",
   "mimetype": "text/x-python",
   "name": "python",
   "nbconvert_exporter": "python",
   "pygments_lexer": "ipython3",
   "version": "3.11.3"
  }
 },
 "nbformat": 4,
 "nbformat_minor": 2
}
