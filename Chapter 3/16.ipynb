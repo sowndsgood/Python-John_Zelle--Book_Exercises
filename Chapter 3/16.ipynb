{
 "cells": [
  {
   "cell_type": "markdown",
   "metadata": {},
   "source": [
    "A Fibonacci sequence is a sequence of numbers where each successive \n",
    "number is the sum of the previous two. The classic Fibonacci sequence \n",
    "begins: 1, 1, 2, 3, 5, 8, 13, .... Write a program that computes the nth \n",
    "Fibonacci number where n is a value input by the user. For example, if \n",
    "n = 6, then the result is 8."
   ]
  },
  {
   "cell_type": "code",
   "execution_count": 17,
   "metadata": {},
   "outputs": [
    {
     "name": "stdout",
     "output_type": "stream",
     "text": [
      "The result is 3\n"
     ]
    }
   ],
   "source": [
    "def fibonacci(n):\n",
    "    first=0\n",
    "    second=1\n",
    "    if n==1:\n",
    "        print(\"The result is\",1)\n",
    "    else: \n",
    "        for i in range(n-1):\n",
    "            x=first+second\n",
    "            first=second\n",
    "            second=x\n",
    "        print(\"The result is\",x)\n",
    "    \n",
    "\n",
    "n=int(input(\"Enter a number for fobinacci sequence:\"))\n",
    "fibonacci(n)"
   ]
  }
 ],
 "metadata": {
  "kernelspec": {
   "display_name": "Python 3",
   "language": "python",
   "name": "python3"
  },
  "language_info": {
   "codemirror_mode": {
    "name": "ipython",
    "version": 3
   },
   "file_extension": ".py",
   "mimetype": "text/x-python",
   "name": "python",
   "nbconvert_exporter": "python",
   "pygments_lexer": "ipython3",
   "version": "3.11.3"
  }
 },
 "nbformat": 4,
 "nbformat_minor": 2
}
