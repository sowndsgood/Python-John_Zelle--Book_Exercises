{
 "cells": [
  {
   "cell_type": "markdown",
   "metadata": {},
   "source": [
    " Two points in a plane are specified using the coordinates (x1,y1) and \n",
    "(x2,y2). Write a program that calculates the slope of a line through two \n",
    "(non-vertical) points entered by the user. \n"
   ]
  },
  {
   "cell_type": "code",
   "execution_count": 5,
   "metadata": {},
   "outputs": [
    {
     "name": "stdout",
     "output_type": "stream",
     "text": [
      "The slope of the points (2, 3) and (6, 5) is 0.5\n"
     ]
    }
   ],
   "source": [
    "def slope(x1,y1,x2,y2):\n",
    "    slope= (y2-y1)/(x2-x1)\n",
    "    print(f\"The slope of the points {x1,y1} and {x2,y2} is\",slope)\n",
    "\n",
    "x1,y1=eval(input(\"Enter the first point coordinates with commas:\"))\n",
    "x2,y2=eval(input(\"Enter the second point coordinates with commas:\"))\n",
    "slope(x1,y1,x2,y2)\n"
   ]
  }
 ],
 "metadata": {
  "kernelspec": {
   "display_name": "Python 3",
   "language": "python",
   "name": "python3"
  },
  "language_info": {
   "codemirror_mode": {
    "name": "ipython",
    "version": 3
   },
   "file_extension": ".py",
   "mimetype": "text/x-python",
   "name": "python",
   "nbconvert_exporter": "python",
   "pygments_lexer": "ipython3",
   "version": "3.11.3"
  }
 },
 "nbformat": 4,
 "nbformat_minor": 2
}
