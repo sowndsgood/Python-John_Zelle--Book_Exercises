{
 "cells": [
  {
   "cell_type": "markdown",
   "metadata": {},
   "source": [
    " Write a program to calculate the area of a triangle given the length of its \n",
    "three sides-a, b, and c."
   ]
  },
  {
   "cell_type": "code",
   "execution_count": 8,
   "metadata": {},
   "outputs": [
    {
     "name": "stdout",
     "output_type": "stream",
     "text": [
      "The area of triange is 13.997767679169419 sq units\n"
     ]
    }
   ],
   "source": [
    "import math\n",
    "\n",
    "def area(a,b,c):\n",
    "    s=(a+b+c)/2\n",
    "    A=math.sqrt((s*(s-a)*(s-b)*(s-c)))\n",
    "    print(\"The area of triange is\",A,\"sq units\")\n",
    "\n",
    "a,b,c=eval(input(\"Enter the sides of triangle:\"))\n",
    "area(a,b,c)\n"
   ]
  }
 ],
 "metadata": {
  "kernelspec": {
   "display_name": "Python 3",
   "language": "python",
   "name": "python3"
  },
  "language_info": {
   "codemirror_mode": {
    "name": "ipython",
    "version": 3
   },
   "file_extension": ".py",
   "mimetype": "text/x-python",
   "name": "python",
   "nbconvert_exporter": "python",
   "pygments_lexer": "ipython3",
   "version": "3.11.3"
  }
 },
 "nbformat": 4,
 "nbformat_minor": 2
}
