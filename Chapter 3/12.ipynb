{
 "cells": [
  {
   "cell_type": "markdown",
   "metadata": {},
   "source": [
    "Write a program to find the sum of the cubes of the first n natural numbers \n",
    "where the value of n is provided by the user"
   ]
  },
  {
   "cell_type": "code",
   "execution_count": 2,
   "metadata": {},
   "outputs": [
    {
     "name": "stdout",
     "output_type": "stream",
     "text": [
      "The sum of numbers 36.0\n"
     ]
    }
   ],
   "source": [
    "def sum(n):\n",
    "    sum=((n*(n+1))/2)**2\n",
    "    print(\"The sum of numbers\",sum)\n",
    "\n",
    "n=int(input(\"Enter the number:\"))\n",
    "sum(n)"
   ]
  }
 ],
 "metadata": {
  "kernelspec": {
   "display_name": "Python 3",
   "language": "python",
   "name": "python3"
  },
  "language_info": {
   "codemirror_mode": {
    "name": "ipython",
    "version": 3
   },
   "file_extension": ".py",
   "mimetype": "text/x-python",
   "name": "python",
   "nbconvert_exporter": "python",
   "pygments_lexer": "ipython3",
   "version": "3.11.3"
  }
 },
 "nbformat": 4,
 "nbformat_minor": 2
}
