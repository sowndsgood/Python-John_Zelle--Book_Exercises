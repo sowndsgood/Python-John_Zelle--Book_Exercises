{
 "cells": [
  {
   "cell_type": "markdown",
   "metadata": {},
   "source": [
    "The Gregorian epact is the number of days between January 1st and the previous new moon. This value is used to figure out the date of Easter. It is calculated by these formulas (using int arithmetic): \n",
    "\n",
    "C = year//100 \n",
    "\n",
    "epact = (8 + (C/ /4)- C + ((80 + 13)/ /25) + 11(year%19))%30\n",
    "\n",
    "Write a program that prompts the user for a 4-digit year and then outputs \n",
    "the value of the epact. "
   ]
  },
  {
   "cell_type": "code",
   "execution_count": 5,
   "metadata": {},
   "outputs": [
    {
     "name": "stderr",
     "output_type": "stream",
     "text": [
      "<>:3: SyntaxWarning: 'int' object is not callable; perhaps you missed a comma?\n",
      "<>:3: SyntaxWarning: 'int' object is not callable; perhaps you missed a comma?\n",
      "C:\\Users\\pugal\\AppData\\Local\\Temp\\ipykernel_20536\\1731786215.py:3: SyntaxWarning: 'int' object is not callable; perhaps you missed a comma?\n",
      "  epact = (8 + (C//4)- C + ((80 + 13)//25) + 11(year%19))%30\n"
     ]
    },
    {
     "ename": "TypeError",
     "evalue": "'int' object is not callable",
     "output_type": "error",
     "traceback": [
      "\u001b[1;31m---------------------------------------------------------------------------\u001b[0m",
      "\u001b[1;31mTypeError\u001b[0m                                 Traceback (most recent call last)",
      "Cell \u001b[1;32mIn[5], line 7\u001b[0m\n\u001b[0;32m      4\u001b[0m     \u001b[38;5;28mprint\u001b[39m(\u001b[38;5;124m\"\u001b[39m\u001b[38;5;124mThe epact is\u001b[39m\u001b[38;5;124m\"\u001b[39m,epact)\n\u001b[0;32m      6\u001b[0m year\u001b[38;5;241m=\u001b[39m\u001b[38;5;28mint\u001b[39m(\u001b[38;5;28minput\u001b[39m(\u001b[38;5;124m\"\u001b[39m\u001b[38;5;124mEnter the year:\u001b[39m\u001b[38;5;124m\"\u001b[39m))\n\u001b[1;32m----> 7\u001b[0m \u001b[43mepact\u001b[49m\u001b[43m(\u001b[49m\u001b[43myear\u001b[49m\u001b[43m)\u001b[49m \n",
      "Cell \u001b[1;32mIn[5], line 3\u001b[0m, in \u001b[0;36mepact\u001b[1;34m(year)\u001b[0m\n\u001b[0;32m      1\u001b[0m \u001b[38;5;28;01mdef\u001b[39;00m \u001b[38;5;21mepact\u001b[39m(year):\n\u001b[0;32m      2\u001b[0m     C \u001b[38;5;241m=\u001b[39m year\u001b[38;5;241m/\u001b[39m\u001b[38;5;241m/\u001b[39m\u001b[38;5;241m100\u001b[39m\n\u001b[1;32m----> 3\u001b[0m     epact \u001b[38;5;241m=\u001b[39m (\u001b[38;5;241m8\u001b[39m \u001b[38;5;241m+\u001b[39m (C\u001b[38;5;241m/\u001b[39m\u001b[38;5;241m/\u001b[39m\u001b[38;5;241m4\u001b[39m)\u001b[38;5;241m-\u001b[39m C \u001b[38;5;241m+\u001b[39m ((\u001b[38;5;241m80\u001b[39m \u001b[38;5;241m+\u001b[39m \u001b[38;5;241m13\u001b[39m)\u001b[38;5;241m/\u001b[39m\u001b[38;5;241m/\u001b[39m\u001b[38;5;241m25\u001b[39m) \u001b[38;5;241m+\u001b[39m \u001b[38;5;241;43m11\u001b[39;49m\u001b[43m(\u001b[49m\u001b[43myear\u001b[49m\u001b[38;5;241;43m%\u001b[39;49m\u001b[38;5;241;43m19\u001b[39;49m\u001b[43m)\u001b[49m)\u001b[38;5;241m%\u001b[39m\u001b[38;5;241m30\u001b[39m\n\u001b[0;32m      4\u001b[0m     \u001b[38;5;28mprint\u001b[39m(\u001b[38;5;124m\"\u001b[39m\u001b[38;5;124mThe epact is\u001b[39m\u001b[38;5;124m\"\u001b[39m,epact)\n",
      "\u001b[1;31mTypeError\u001b[0m: 'int' object is not callable"
     ]
    }
   ],
   "source": [
    "def epact(year):\n",
    "    C = year//100\n",
    "    epact = (8 + (C//4)- C + ((80 + 13)//25) + 11(year%19))%30\n",
    "    print(\"The epact is\",epact)\n",
    "\n",
    "year=int(input(\"Enter the year:\"))\n",
    "epact(year) "
   ]
  },
  {
   "cell_type": "code",
   "execution_count": 4,
   "metadata": {},
   "outputs": [
    {
     "name": "stdout",
     "output_type": "stream",
     "text": [
      "Epact: 5\n"
     ]
    }
   ],
   "source": [
    "#Program: To find epact\n",
    "\n",
    "def find_epact(year):\n",
    "    C = year // 100\n",
    "    epact = (8 + (C//4)- C + ((80 + 13) // 25) + 11 * (year%19))%30\n",
    "    print(\"Epact:\", epact)\n",
    "\n",
    "year = int(input(\"Enter the year to find the epact:\"))\n",
    "find_epact(year)"
   ]
  }
 ],
 "metadata": {
  "kernelspec": {
   "display_name": "Python 3",
   "language": "python",
   "name": "python3"
  },
  "language_info": {
   "codemirror_mode": {
    "name": "ipython",
    "version": 3
   },
   "file_extension": ".py",
   "mimetype": "text/x-python",
   "name": "python",
   "nbconvert_exporter": "python",
   "pygments_lexer": "ipython3",
   "version": "3.11.3"
  }
 },
 "nbformat": 4,
 "nbformat_minor": 2
}
