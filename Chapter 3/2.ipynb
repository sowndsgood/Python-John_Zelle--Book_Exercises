{
 "cells": [
  {
   "cell_type": "markdown",
   "metadata": {},
   "source": [
    "Write a program that calculates the cost per square inch of a circular pizza, \n",
    "given its diameter and price."
   ]
  },
  {
   "cell_type": "code",
   "execution_count": 9,
   "metadata": {},
   "outputs": [
    {
     "name": "stdout",
     "output_type": "stream",
     "text": [
      "The cost per inch: 1.6976527263135504 rupees\n"
     ]
    }
   ],
   "source": [
    "#Importing Math Library\n",
    "import math\n",
    "\n",
    "def pizza():\n",
    "    diameter=float(input(\"Enter the diameter:\"))\n",
    "    cost=float(input(\"Enter the cost:\"))\n",
    "    radius=diameter/2\n",
    "    area=math.pi*(radius**2)\n",
    "    cost_per_area=cost/area\n",
    "    print(\"The cost per inch:\",cost_per_area,\"rupees\")\n",
    "\n",
    "pizza()"
   ]
  }
 ],
 "metadata": {
  "kernelspec": {
   "display_name": "Python 3",
   "language": "python",
   "name": "python3"
  },
  "language_info": {
   "codemirror_mode": {
    "name": "ipython",
    "version": 3
   },
   "file_extension": ".py",
   "mimetype": "text/x-python",
   "name": "python",
   "nbconvert_exporter": "python",
   "pygments_lexer": "ipython3",
   "version": "3.11.3"
  }
 },
 "nbformat": 4,
 "nbformat_minor": 2
}
