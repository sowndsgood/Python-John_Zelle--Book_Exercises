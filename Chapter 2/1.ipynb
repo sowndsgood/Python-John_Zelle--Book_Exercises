{
 "cells": [
  {
   "cell_type": "markdown",
   "metadata": {},
   "source": [
    "A user-friendly program should print an introduction that tells the user \n",
    "what the program does. Modify the convert . py program (Section 2.2) to \n",
    "print an introduction."
   ]
  },
  {
   "cell_type": "code",
   "execution_count": 2,
   "metadata": {},
   "outputs": [
    {
     "name": "stdout",
     "output_type": "stream",
     "text": [
      "A program to convert Celsius temps to Fahrenheit by Susan Computewell\n",
      "The temperature is 113.0 degrees Fahrenheit.\n"
     ]
    }
   ],
   "source": [
    "# convert.py \n",
    "# A program to convert Celsius temps to Fahrenheit \n",
    "# by: Susan Computewell \n",
    "def main():\n",
    "    print(\"A program to convert Celsius temps to Fahrenheit by Susan Computewell\") \n",
    "    \n",
    "    celsius = eval(input(\"What is the Celsius temperature? \")) \n",
    "    fahrenheit = 9/5 * celsius + 32 \n",
    "    print(\"The temperature is\", fahrenheit, \"degrees Fahrenheit.\") \n",
    "\n",
    "main()"
   ]
  }
 ],
 "metadata": {
  "kernelspec": {
   "display_name": "Python 3",
   "language": "python",
   "name": "python3"
  },
  "language_info": {
   "codemirror_mode": {
    "name": "ipython",
    "version": 3
   },
   "file_extension": ".py",
   "mimetype": "text/x-python",
   "name": "python",
   "nbconvert_exporter": "python",
   "pygments_lexer": "ipython3",
   "version": "3.11.3"
  }
 },
 "nbformat": 4,
 "nbformat_minor": 2
}
