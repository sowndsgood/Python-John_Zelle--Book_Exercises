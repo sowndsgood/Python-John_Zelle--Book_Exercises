{
 "cells": [
  {
   "cell_type": "markdown",
   "metadata": {},
   "source": [
    "Modify the chaos program so that it prints out 20 values instead of 10."
   ]
  },
  {
   "cell_type": "code",
   "execution_count": 3,
   "metadata": {},
   "outputs": [
    {
     "name": "stdout",
     "output_type": "stream",
     "text": [
      "This program illustrates a chaotic function\n",
      "The number is 0.9\n",
      "0.17999999999999997\n",
      "0.29519999999999996\n",
      "0.41611392\n",
      "0.4859262511644672\n",
      "0.49960385918742867\n",
      "0.49999968614491325\n",
      "0.49999999999980305\n",
      "0.5\n",
      "0.5\n",
      "0.5\n",
      "0.5\n",
      "0.5\n",
      "0.5\n",
      "0.5\n",
      "0.5\n",
      "0.5\n",
      "0.5\n",
      "0.5\n",
      "0.5\n",
      "0.5\n"
     ]
    }
   ],
   "source": [
    "def main(): \n",
    "    print(\"This program illustrates a chaotic function\") \n",
    "    x = eval(input(\"Enter a number between 0 and 1: \")) \n",
    "    print(f\"The number is {x}\")\n",
    "    for i in range(20): \n",
    "        x = 2.0 * x * (1 -x) \n",
    "        print(x) \n",
    "\n",
    "main()"
   ]
  }
 ],
 "metadata": {
  "kernelspec": {
   "display_name": "Python 3",
   "language": "python",
   "name": "python3"
  },
  "language_info": {
   "codemirror_mode": {
    "name": "ipython",
    "version": 3
   },
   "file_extension": ".py",
   "mimetype": "text/x-python",
   "name": "python",
   "nbconvert_exporter": "python",
   "pygments_lexer": "ipython3",
   "version": "3.11.3"
  }
 },
 "nbformat": 4,
 "nbformat_minor": 2
}
