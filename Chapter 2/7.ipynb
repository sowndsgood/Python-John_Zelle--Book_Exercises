{
 "cells": [
  {
   "cell_type": "markdown",
   "metadata": {},
   "source": [
    "Suppose you have an investment plan where you invest a certain fixed \n",
    "amount every year. Modify futval. py to compute the total accumulation \n",
    "of your investment. The inputs to the program will be the amount to invest \n",
    "each year, the interest rate, and the number of years for the investment."
   ]
  },
  {
   "cell_type": "code",
   "execution_count": 1,
   "metadata": {},
   "outputs": [
    {
     "name": "stdout",
     "output_type": "stream",
     "text": [
      "This program calculates the future value of investment.\n",
      "The value in 10 years is: 11612.032674527367\n"
     ]
    }
   ],
   "source": [
    "# futval.py \n",
    "# A program to compute the value of an investment\n",
    " \n",
    "def main(): \n",
    "    print(\"This program calculates the future value of investment.\") \n",
    "    \n",
    "    principal = eval(input(\"Enter the initial principal: \")) \n",
    "    apr = eval(input(\"Enter the annual interest rate: \")) \n",
    "    years = eval(input(\"Enter number of years:\")) \n",
    "\n",
    "    acc=0\n",
    "\n",
    "    for i in range(years): \n",
    "        acc+=principal\n",
    "        acc = acc * (1 + apr) \n",
    "        \n",
    "    \n",
    "    print(\"The value in\",years,\"years is:\", acc) \n",
    "\n",
    "main()"
   ]
  }
 ],
 "metadata": {
  "kernelspec": {
   "display_name": "Python 3",
   "language": "python",
   "name": "python3"
  },
  "language_info": {
   "codemirror_mode": {
    "name": "ipython",
    "version": 3
   },
   "file_extension": ".py",
   "mimetype": "text/x-python",
   "name": "python",
   "nbconvert_exporter": "python",
   "pygments_lexer": "ipython3",
   "version": "3.11.3"
  }
 },
 "nbformat": 4,
 "nbformat_minor": 2
}
