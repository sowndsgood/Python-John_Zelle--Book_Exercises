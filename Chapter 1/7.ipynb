{
 "cells": [
  {
   "cell_type": "markdown",
   "metadata": {},
   "source": [
    "(Advanced) Modify the chaos program so that it accepts two inputs and \n",
    "then prints a table with two columns similar to the one shown in Sec\n",
    " tion 1.8. (Note: You will probably not be able to get the columns to line \n",
    "up as nicely as those in the example. Chapter 5 discusses how to print \n",
    "numbers with a fixed number of decimal places.)"
   ]
  },
  {
   "cell_type": "code",
   "execution_count": 1,
   "metadata": {},
   "outputs": [
    {
     "name": "stdout",
     "output_type": "stream",
     "text": [
      "This program illustrates a chaotic function\n",
      "The number is 0.12 0.13\n",
      "0.41184       0.44109\n",
      "0.94468847616       0.9614654864100001\n",
      "0.20378342076493888       0.14449345892428994\n",
      "0.6327973789264871       0.4820988870842995\n",
      "0.9062229389859944       0.9737502456098794\n",
      "0.3314334029821663       0.09968674865985774\n",
      "0.8641826792423263       0.350022273125788\n",
      "0.4577468069455355       0.8872760576224126\n",
      "0.9680372039391384       0.3900672952505229\n",
      "0.12067058534245018       0.9278677216632109\n"
     ]
    }
   ],
   "source": [
    "def main(): \n",
    "    print(\"This program illustrates a chaotic function\") \n",
    "    x = eval(input(\"Enter a number between 0 and 1: \")) \n",
    "    y = eval(input(\"Enter a number between 0 and 1: \")) \n",
    "    print(f\"The number is {x} {y}\")\n",
    "    for i in range(10): \n",
    "        x = 3.9 * x * (1 - x)\n",
    "        y = 3.9 * y * (1-y) \n",
    "        print(f\"{x}       {y}\") \n",
    "\n",
    "main()"
   ]
  }
 ],
 "metadata": {
  "kernelspec": {
   "display_name": "Python 3",
   "language": "python",
   "name": "python3"
  },
  "language_info": {
   "codemirror_mode": {
    "name": "ipython",
    "version": 3
   },
   "file_extension": ".py",
   "mimetype": "text/x-python",
   "name": "python",
   "nbconvert_exporter": "python",
   "pygments_lexer": "ipython3",
   "version": "3.11.3"
  }
 },
 "nbformat": 4,
 "nbformat_minor": 2
}
