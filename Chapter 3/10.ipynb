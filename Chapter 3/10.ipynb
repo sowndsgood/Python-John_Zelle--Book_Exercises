{
 "cells": [
  {
   "cell_type": "markdown",
   "metadata": {},
   "source": [
    "Write a program to determine the length of a ladder required to reach a \n",
    "given height when leaned against a house. The height and angle of the \n",
    "ladder are given as inputs.\n",
    "\n",
    "Note: The angle must be in radians. Prompt for an angle in degrees."
   ]
  },
  {
   "cell_type": "code",
   "execution_count": 1,
   "metadata": {},
   "outputs": [
    {
     "name": "stdout",
     "output_type": "stream",
     "text": [
      "The length is: 3.8935086815541813\n"
     ]
    }
   ],
   "source": [
    "import math\n",
    "def length_of_ladder(height,angle_rad):\n",
    "    length=height/math.sin(angle_rad)\n",
    "    print(\"The length is:\",length)\n",
    "\n",
    "height=float(input(\"Enter the height:\"))\n",
    "angle_degree=float(input(\"Enter the angle in degree:\"))\n",
    "\n",
    "angle_rad=(math.pi*angle_degree)/100\n",
    "length_of_ladder(height,angle_rad)\n"
   ]
  }
 ],
 "metadata": {
  "kernelspec": {
   "display_name": "Python 3",
   "language": "python",
   "name": "python3"
  },
  "language_info": {
   "codemirror_mode": {
    "name": "ipython",
    "version": 3
   },
   "file_extension": ".py",
   "mimetype": "text/x-python",
   "name": "python",
   "nbconvert_exporter": "python",
   "pygments_lexer": "ipython3",
   "version": "3.11.3"
  }
 },
 "nbformat": 4,
 "nbformat_minor": 2
}
