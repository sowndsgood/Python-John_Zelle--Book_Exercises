{
 "cells": [
  {
   "cell_type": "markdown",
   "metadata": {},
   "source": [
    " As an alternative to APR, the interest accrued on an account is often described in terms of a nominal rate and the number of compounding periods. For example, if the interest rate is 3% and the interest is compounded \n",
    "quarterly, the account actually earns 3/4% interest every 3 months. \n",
    "Modify the futval. py program to use this method of entering the \n",
    "interest rate. The program should prompt the user for the yearly rate \n",
    "(rate) and the number of times that the interest is compounded each year \n",
    "(periods). To compute the value in ten years, the program will loop 10 * \n",
    "periods times and accrue rate/period interest on each iteration."
   ]
  },
  {
   "cell_type": "code",
   "execution_count": 4,
   "metadata": {},
   "outputs": [
    {
     "name": "stdout",
     "output_type": "stream",
     "text": [
      "This program calculates the future value of investment.\n",
      "The value in 10 years is: 1309.487913120175\n"
     ]
    }
   ],
   "source": [
    "# futval.py \n",
    "# A program to compute the value of an investment\n",
    " \n",
    "def main(): \n",
    "    print(\"This program calculates the future value of investment.\") \n",
    "    \n",
    "    principal = eval(input(\"Enter the initial principal: \")) \n",
    "    nominal = eval(input(\"Enter the nominal interest rate: \"))\n",
    "    periods=eval(input(\"Enter the number of periods:\"))\n",
    "    years = eval(input(\"Enter number of years:\")) \n",
    "    interest=nominal/periods\n",
    "\n",
    "    for i in range(years*periods): \n",
    "        principal = principal * (1 + interest) \n",
    "        \n",
    "    \n",
    "    print(\"The value in\",years,\"years is:\", principal) \n",
    "\n",
    "main()"
   ]
  }
 ],
 "metadata": {
  "kernelspec": {
   "display_name": "Python 3",
   "language": "python",
   "name": "python3"
  },
  "language_info": {
   "codemirror_mode": {
    "name": "ipython",
    "version": 3
   },
   "file_extension": ".py",
   "mimetype": "text/x-python",
   "name": "python",
   "nbconvert_exporter": "python",
   "pygments_lexer": "ipython3",
   "version": "3.11.3"
  }
 },
 "nbformat": 4,
 "nbformat_minor": 2
}
