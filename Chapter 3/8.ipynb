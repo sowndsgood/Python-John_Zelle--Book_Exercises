{
 "cells": [
  {
   "cell_type": "markdown",
   "metadata": {},
   "source": [
    "The Gregorian epact is the number of days between January 1st and the previous new moon. This value is used to figure out the date of Easter. It is calculated by these formulas (using int arithmetic): \n",
    "\n",
    "C = year//100 \n",
    "\n",
    "epact = (8 + (C/ /4)- C + ((80 + 13)/ /25) + 11(year%19))%30\n",
    "\n",
    "Write a program that prompts the user for a 4-digit year and then outputs \n",
    "the value of the epact. "
   ]
  },
  {
   "cell_type": "code",
   "execution_count": 9,
   "metadata": {},
   "outputs": [
    {
     "name": "stdout",
     "output_type": "stream",
     "text": [
      "The epact is 10\n"
     ]
    }
   ],
   "source": [
    "def find_epact(year):\n",
    "    C = year//100\n",
    "    epact = (8 + (C//4)- C + ((80 + 13)//25) + 11*(year%19))%30\n",
    "    print(\"The epact is\",epact)\n",
    "\n",
    "year=int(input(\"Enter the year:\"))\n",
    "find_epact(year) "
   ]
  }
 ],
 "metadata": {
  "kernelspec": {
   "display_name": "Python 3",
   "language": "python",
   "name": "python3"
  },
  "language_info": {
   "codemirror_mode": {
    "name": "ipython",
    "version": 3
   },
   "file_extension": ".py",
   "mimetype": "text/x-python",
   "name": "python",
   "nbconvert_exporter": "python",
   "pygments_lexer": "ipython3",
   "version": "3.11.3"
  }
 },
 "nbformat": 4,
 "nbformat_minor": 2
}
