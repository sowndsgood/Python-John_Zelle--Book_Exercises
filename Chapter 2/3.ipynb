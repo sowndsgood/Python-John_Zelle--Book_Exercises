{
 "cells": [
  {
   "cell_type": "markdown",
   "metadata": {},
   "source": [
    "Modify the avg2. py program (Section 2.5.3) to find the average of three exam scores. "
   ]
  },
  {
   "cell_type": "code",
   "execution_count": 2,
   "metadata": {},
   "outputs": [
    {
     "name": "stdout",
     "output_type": "stream",
     "text": [
      "This program computes the average of three exam scores.\n",
      "The average of the scores is: 3.0\n"
     ]
    }
   ],
   "source": [
    "# avg2.py \n",
    "# A simple program to average three exam scores \n",
    "# Illustrates use of multiple input \n",
    "\n",
    "def main(): \n",
    "    print(\"This program computes the average of three exam scores.\") \n",
    "    score1, score2, score3 = eval(input(\"Enter two scores separated by a comma: \")) \n",
    "    average = (score1 + score2 + score3) / 3\n",
    "    print(\"The average of the scores is:\", average) \n",
    "\n",
    "main()"
   ]
  }
 ],
 "metadata": {
  "kernelspec": {
   "display_name": "Python 3",
   "language": "python",
   "name": "python3"
  },
  "language_info": {
   "codemirror_mode": {
    "name": "ipython",
    "version": 3
   },
   "file_extension": ".py",
   "mimetype": "text/x-python",
   "name": "python",
   "nbconvert_exporter": "python",
   "pygments_lexer": "ipython3",
   "version": "3.11.3"
  }
 },
 "nbformat": 4,
 "nbformat_minor": 2
}
