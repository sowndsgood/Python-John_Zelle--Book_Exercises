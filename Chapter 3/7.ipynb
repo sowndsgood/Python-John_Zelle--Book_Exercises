{
 "cells": [
  {
   "cell_type": "markdown",
   "metadata": {},
   "source": [
    "Write a program that accepts two points (see previous problem) and de\n",
    " termines the distance between them."
   ]
  },
  {
   "cell_type": "code",
   "execution_count": 6,
   "metadata": {},
   "outputs": [
    {
     "name": "stdout",
     "output_type": "stream",
     "text": [
      "The distance of the line joining (2, 3) and (4, 5)is 2.8284271247461903\n"
     ]
    }
   ],
   "source": [
    "import math\n",
    "\n",
    "def distance(x1,y1,x2,y2):\n",
    "    distance= math.sqrt((x2-x1)**2 + (y2-y1)**2)\n",
    "    print(f\"The distance of the line joining {(x1,y1)} and {(x2,y2)}is\",distance)\n",
    "\n",
    "x1,y1=eval(input(\"Enter the first point coordinates:\"))\n",
    "x2,y2=eval(input(\"Enter the second point coordinates:\"))\n",
    "distance(x1,y1,x2,y2)\n"
   ]
  }
 ],
 "metadata": {
  "kernelspec": {
   "display_name": "Python 3",
   "language": "python",
   "name": "python3"
  },
  "language_info": {
   "codemirror_mode": {
    "name": "ipython",
    "version": 3
   },
   "file_extension": ".py",
   "mimetype": "text/x-python",
   "name": "python",
   "nbconvert_exporter": "python",
   "pygments_lexer": "ipython3",
   "version": "3.11.3"
  }
 },
 "nbformat": 4,
 "nbformat_minor": 2
}
