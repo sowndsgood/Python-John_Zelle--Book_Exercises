{
 "cells": [
  {
   "cell_type": "markdown",
   "metadata": {},
   "source": [
    "Write a program that finds the average of a series of numbers entered by \n",
    "the user. As in the previous problem, the program will first ask the user \n",
    "how many numbers there are. Note: The average should always be a float, \n",
    "even if the user inputs are all ints."
   ]
  },
  {
   "cell_type": "code",
   "execution_count": 1,
   "metadata": {},
   "outputs": [
    {
     "name": "stdout",
     "output_type": "stream",
     "text": [
      "The average of the numbers is: 2.0\n"
     ]
    }
   ],
   "source": [
    "def average():\n",
    "\n",
    "    n=int(input(\"Enter the number count:\"))\n",
    "\n",
    "    sum=0\n",
    "    for i in range(n):\n",
    "        temp=float(input(f\"Enter the {i+1} number\"))\n",
    "        sum+=temp\n",
    "\n",
    "    print(\"The average of the numbers is:\",sum/n)\n",
    "\n",
    "average()"
   ]
  }
 ],
 "metadata": {
  "kernelspec": {
   "display_name": "Python 3",
   "language": "python",
   "name": "python3"
  },
  "language_info": {
   "codemirror_mode": {
    "name": "ipython",
    "version": 3
   },
   "file_extension": ".py",
   "mimetype": "text/x-python",
   "name": "python",
   "nbconvert_exporter": "python",
   "pygments_lexer": "ipython3",
   "version": "3.11.3"
  }
 },
 "nbformat": 4,
 "nbformat_minor": 2
}
