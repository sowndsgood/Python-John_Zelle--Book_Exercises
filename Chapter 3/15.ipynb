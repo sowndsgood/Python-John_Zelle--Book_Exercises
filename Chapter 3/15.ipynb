{
 "cells": [
  {
   "cell_type": "code",
   "execution_count": 14,
   "metadata": {},
   "outputs": [
    {
     "name": "stdout",
     "output_type": "stream",
     "text": [
      "The predicted value is 3.1280797568782575\n",
      "The actual value is 3.141592653589793\n",
      "The difference is 0.01351289671153566\n"
     ]
    }
   ],
   "source": [
    "import math\n",
    "\n",
    "def find_pi(n):\n",
    "    predicted=0\n",
    "    for i in range(n):\n",
    "      term=(4*((-1)**i))/(2*i+1)\n",
    "      predicted=predicted+term\n",
    "\n",
    "    return predicted\n",
    "\n",
    "\n",
    "\n",
    "\n",
    "\n",
    "n=int(input(\"Enter the number of times\"))\n",
    "pred=find_pi(n)\n",
    "print(\"The predicted value is\",pred)\n",
    "print(\"The actual value is\",math.pi)\n",
    "print(\"The difference is\",math.pi-pred)"
   ]
  }
 ],
 "metadata": {
  "kernelspec": {
   "display_name": "Python 3",
   "language": "python",
   "name": "python3"
  },
  "language_info": {
   "codemirror_mode": {
    "name": "ipython",
    "version": 3
   },
   "file_extension": ".py",
   "mimetype": "text/x-python",
   "name": "python",
   "nbconvert_exporter": "python",
   "pygments_lexer": "ipython3",
   "version": "3.11.3"
  }
 },
 "nbformat": 4,
 "nbformat_minor": 2
}
