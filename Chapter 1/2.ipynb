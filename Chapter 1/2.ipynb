{
 "cells": [
  {
   "cell_type": "markdown",
   "metadata": {},
   "source": [
    "2. Enter and run the chaos program from Section 1.6. Try it out with various \n",
    "values of input to see that it functions as described in the chapter. "
   ]
  },
  {
   "cell_type": "code",
   "execution_count": 5,
   "metadata": {},
   "outputs": [
    {
     "name": "stdout",
     "output_type": "stream",
     "text": [
      "This program illustrates a chaotic function\n",
      "The number is 0.12\n",
      "0.41184\n",
      "0.94468847616\n",
      "0.20378342076493888\n",
      "0.6327973789264871\n",
      "0.9062229389859944\n",
      "0.3314334029821663\n",
      "0.8641826792423263\n",
      "0.4577468069455355\n",
      "0.9680372039391384\n",
      "0.12067058534245018\n"
     ]
    }
   ],
   "source": [
    "# File: chaos.py \n",
    "# A simple program illustrating chaotic behavior. \n",
    "def main(): \n",
    "    print(\"This program illustrates a chaotic function\") \n",
    "    x = eval(input(\"Enter a number between 0 and 1:\")) \n",
    "    print(f\"The number is {x}\")\n",
    "    for i in range(10): \n",
    "        x = 3.9 * x * (1 -x) \n",
    "        print(x) \n",
    "\n",
    "main()"
   ]
  },
  {
   "cell_type": "code",
   "execution_count": 6,
   "metadata": {},
   "outputs": [
    {
     "name": "stdout",
     "output_type": "stream",
     "text": [
      "This program illustrates a chaotic function\n",
      "The number is 0.13\n",
      "0.44109\n",
      "0.9614654864100001\n",
      "0.14449345892428994\n",
      "0.4820988870842995\n",
      "0.9737502456098794\n",
      "0.09968674865985774\n",
      "0.350022273125788\n",
      "0.8872760576224126\n",
      "0.3900672952505229\n",
      "0.9278677216632109\n"
     ]
    }
   ],
   "source": [
    "def main(): \n",
    "    print(\"This program illustrates a chaotic function\") \n",
    "    x = eval(input(\"Enter a number between 0 and 1: \")) \n",
    "    print(f\"The number is {x}\")\n",
    "    for i in range(10): \n",
    "        x = 3.9 * x * (1 -x) \n",
    "        print(x) \n",
    "\n",
    "main()"
   ]
  }
 ],
 "metadata": {
  "kernelspec": {
   "display_name": "Python 3",
   "language": "python",
   "name": "python3"
  },
  "language_info": {
   "codemirror_mode": {
    "name": "ipython",
    "version": 3
   },
   "file_extension": ".py",
   "mimetype": "text/x-python",
   "name": "python",
   "nbconvert_exporter": "python",
   "pygments_lexer": "ipython3",
   "version": "3.11.3"
  }
 },
 "nbformat": 4,
 "nbformat_minor": 2
}
