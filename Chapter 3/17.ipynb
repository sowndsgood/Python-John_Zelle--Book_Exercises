{
 "cells": [
  {
   "cell_type": "code",
   "execution_count": 6,
   "metadata": {},
   "outputs": [
    {
     "name": "stdout",
     "output_type": "stream",
     "text": [
      "The predicted root is: 2.2360679779158037\n",
      "The actual root is: 2.23606797749979\n",
      "The difference is: -4.1601389000334166e-10\n"
     ]
    }
   ],
   "source": [
    "#Importing Library\n",
    "import math\n",
    "\n",
    "#Function to guess the square root\n",
    "def square_root(x,n):\n",
    "    guess=x/2\n",
    "    for i in range(n):\n",
    "        guess=(guess+(x/guess))/2\n",
    "    return guess\n",
    "\n",
    "x=int(input(\"Enter the number:\"))\n",
    "n=int(input(\"Enter the number of times to take a guess\"))\n",
    "predicted=square_root(x,n)\n",
    "print(\"The predicted root is:\",predicted)\n",
    "print(\"The actual root is:\",math.sqrt(x))\n",
    "diff = math.sqrt(x) - predicted\n",
    "print(\"The difference is:\",diff)\n"
   ]
  }
 ],
 "metadata": {
  "kernelspec": {
   "display_name": "Python 3",
   "language": "python",
   "name": "python3"
  },
  "language_info": {
   "codemirror_mode": {
    "name": "ipython",
    "version": 3
   },
   "file_extension": ".py",
   "mimetype": "text/x-python",
   "name": "python",
   "nbconvert_exporter": "python",
   "pygments_lexer": "ipython3",
   "version": "3.11.3"
  }
 },
 "nbformat": 4,
 "nbformat_minor": 2
}
