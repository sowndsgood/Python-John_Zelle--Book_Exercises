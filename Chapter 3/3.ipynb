{
 "cells": [
  {
   "cell_type": "markdown",
   "metadata": {},
   "source": [
    " Write a program that computes the molecular weight of a carbohydrate (in \n",
    "grams per mole) based on the number of hydrogen, carbon, and oxygen \n",
    "atoms in the molecule. The program should prompt the user to enter the \n",
    "number of hydrogen atoms, the number of carbon atoms, and the number \n",
    "of oxygen atoms. The program then prints the total combined molecular \n",
    "weight of all the atoms based on these individual atom weights: \n",
    "Atom \n",
    "Weight \n",
    "(grams I mole) \n",
    "H \n",
    "c \n",
    "0 \n",
    "1.00794 \n",
    "12.0107 \n",
    "15.9994 \n",
    "For example, the molecular weight of water (H20) is: 2(1.00794) + \n",
    "15.9994 = 18.01528."
   ]
  },
  {
   "cell_type": "code",
   "execution_count": 2,
   "metadata": {},
   "outputs": [
    {
     "name": "stdout",
     "output_type": "stream",
     "text": [
      "The molecular weight of the molecule is 118.04498000000001 grams per mole\n"
     ]
    }
   ],
   "source": [
    "def molecular_weight():\n",
    "    num_H=int(input(\"Enter number of Hydrogen Atoms:\"))\n",
    "    num_C=int(input(\"Enter number of Carbon Atoms:\"))\n",
    "    num_O=int(input(\"Enter number of Oxygen Atoms:\"))\n",
    "    total_weight= (num_H*1.00794) + (num_C*12.0107)+(num_O*15.9994)\n",
    "    print(\"The molecular weight of the molecule is\",total_weight,\"grams per mole\")\n",
    "\n",
    "molecular_weight()"
   ]
  }
 ],
 "metadata": {
  "kernelspec": {
   "display_name": "Python 3",
   "language": "python",
   "name": "python3"
  },
  "language_info": {
   "codemirror_mode": {
    "name": "ipython",
    "version": 3
   },
   "file_extension": ".py",
   "mimetype": "text/x-python",
   "name": "python",
   "nbconvert_exporter": "python",
   "pygments_lexer": "ipython3",
   "version": "3.11.3"
  }
 },
 "nbformat": 4,
 "nbformat_minor": 2
}
