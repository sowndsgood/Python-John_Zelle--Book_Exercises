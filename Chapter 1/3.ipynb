{
 "cells": [
  {
   "cell_type": "markdown",
   "metadata": {},
   "source": [
    "Modify the chaos program using 2.0 in place of 3.9 as the multiplier in the \n",
    "logistic function. Your modified line of code should look like this: \n",
    "X = 2.0 * X * (1 - X)\n",
    "Run the program for various input values and compare the results to those \n",
    "obtained from the original program. Write a short paragraph describing \n",
    "any differences that you notice in the behavior of the two versions."
   ]
  },
  {
   "cell_type": "code",
   "execution_count": 1,
   "metadata": {},
   "outputs": [
    {
     "name": "stdout",
     "output_type": "stream",
     "text": [
      "This program illustrates a chaotic function\n",
      "The number is 0.12\n",
      "0.2112\n",
      "0.33318911999999995\n",
      "0.4443482606272512\n",
      "0.4938057678095753\n",
      "0.4999232629751422\n",
      "0.499999988222858\n",
      "0.49999999999999967\n",
      "0.5\n",
      "0.5\n",
      "0.5\n"
     ]
    }
   ],
   "source": [
    "def main(): \n",
    "    print(\"This program illustrates a chaotic function\") \n",
    "    x = eval(input(\"Enter a number between 0 and 1: \")) \n",
    "    print(f\"The number is {x}\")\n",
    "    for i in range(10): \n",
    "        x = 2.0 * x * (1 -x) \n",
    "        print(x) \n",
    "\n",
    "main()"
   ]
  },
  {
   "cell_type": "code",
   "execution_count": 2,
   "metadata": {},
   "outputs": [
    {
     "name": "stdout",
     "output_type": "stream",
     "text": [
      "This program illustrates a chaotic function\n",
      "The number is 0.13\n",
      "0.2262\n",
      "0.35006712000000006\n",
      "0.45504026298981126\n",
      "0.4959572440959493\n",
      "0.49996731224940055\n",
      "0.49999999786302185\n",
      "0.5\n",
      "0.5\n",
      "0.5\n",
      "0.5\n"
     ]
    }
   ],
   "source": [
    "def main(): \n",
    "    print(\"This program illustrates a chaotic function\") \n",
    "    x = eval(input(\"Enter a number between 0 and 1: \")) \n",
    "    print(f\"The number is {x}\")\n",
    "    for i in range(10): \n",
    "        x = 2.0 * x * (1 -x) \n",
    "        print(x) \n",
    "\n",
    "main()"
   ]
  },
  {
   "cell_type": "markdown",
   "metadata": {},
   "source": [
    "If 3.9 is replaced by 2, it doesn't show chaotic behavior. At last, the output converges to a same point. Here it is 0.5"
   ]
  }
 ],
 "metadata": {
  "kernelspec": {
   "display_name": "Python 3",
   "language": "python",
   "name": "python3"
  },
  "language_info": {
   "codemirror_mode": {
    "name": "ipython",
    "version": 3
   },
   "file_extension": ".py",
   "mimetype": "text/x-python",
   "name": "python",
   "nbconvert_exporter": "python",
   "pygments_lexer": "ipython3",
   "version": "3.11.3"
  }
 },
 "nbformat": 4,
 "nbformat_minor": 2
}
